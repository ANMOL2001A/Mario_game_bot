{
  "nbformat": 4,
  "nbformat_minor": 0,
  "metadata": {
    "colab": {
      "provenance": [],
      "gpuType": "T4",
      "authorship_tag": "ABX9TyP/vxY4OD/uWOfjkMHoIM3C",
      "include_colab_link": true
    },
    "kernelspec": {
      "name": "python3",
      "display_name": "Python 3"
    },
    "language_info": {
      "name": "python"
    },
    "accelerator": "GPU"
  },
  "cells": [
    {
      "cell_type": "markdown",
      "metadata": {
        "id": "view-in-github",
        "colab_type": "text"
      },
      "source": [
        "<a href=\"https://colab.research.google.com/github/ANMOL2001A/Mario_game_bot/blob/main/Mario_question_answering.ipynb\" target=\"_parent\"><img src=\"https://colab.research.google.com/assets/colab-badge.svg\" alt=\"Open In Colab\"/></a>"
      ]
    },
    {
      "cell_type": "code",
      "source": [
        "!pip install transformers torch\n",
        "import torch\n",
        "from transformers import OpenAIGPTTokenizer, OpenAIGPTLMHeadModel\n",
        "from torch.utils.data import DataLoader, Dataset\n",
        "from torch.optim import Adam\n",
        "import json\n",
        "import tqdm\n",
        "\n",
        "class ChatData(Dataset):\n",
        "    def __init__(self, path, tokenizer):\n",
        "        self.data = json.load(open(path, \"r\", encoding=\"utf-8\"))\n",
        "        self.dialogues = []\n",
        "\n",
        "        for conv in self.data:\n",
        "            for turn in conv[\"dialog\"]:\n",
        "                if \"question\" in turn and \"answer\" in turn:\n",
        "                    dialogue = f\"<user>: {turn['question']} <bot>: {turn['answer']}\"\n",
        "                    self.dialogues.append(dialogue)\n",
        "\n",
        "        self.tokenizer = tokenizer\n",
        "\n",
        "    def __len__(self):\n",
        "        return len(self.dialogues)\n",
        "\n",
        "    def __getitem__(self, idx):\n",
        "        return self.dialogues[idx]\n",
        "\n",
        "\n",
        "def infer(inp, model, tokenizer, device, temperature=1.0):\n",
        "    inp = f\"<startofstring> {inp} <bot>:\"\n",
        "    inp = tokenizer(inp, return_tensors=\"pt\")\n",
        "    X = inp[\"input_ids\"].to(device)\n",
        "    a = inp[\"attention_mask\"].to(device)\n",
        "    output = model.generate(X, attention_mask=a, max_length=100, num_beams=5, no_repeat_ngram_size=2, early_stopping=True, temperature=temperature)\n",
        "    output = tokenizer.decode(output[0], skip_special_tokens=True)\n",
        "    return output\n",
        "\n",
        "\n",
        "\n",
        "def train(chatData, model, optim, device):\n",
        "    epochs = 35\n",
        "\n",
        "    for epoch in range(epochs):\n",
        "        data_loader = DataLoader(chatData, batch_size=64, shuffle=True)\n",
        "        for batch in tqdm.tqdm(data_loader, desc=f\"Epoch {epoch + 1}/{epochs}\"):\n",
        "            X = chatData.tokenizer(batch, max_length=40, truncation=True, padding=\"max_length\", return_tensors=\"pt\")\n",
        "            X_ids = X[\"input_ids\"].to(device)\n",
        "            X_mask = X[\"attention_mask\"].to(device)\n",
        "            optim.zero_grad()\n",
        "            outputs = model(X_ids, attention_mask=X_mask, labels=X_ids)\n",
        "            loss = outputs.loss\n",
        "            loss.backward()\n",
        "            optim.step()\n",
        "\n",
        "        torch.save(model.state_dict(), \"model_state2.pt\")\n",
        "\n",
        "        # Print example inference at the end of each epoch\n",
        "        example_input = \"Tell me about Mario.\"\n",
        "        print(infer(example_input, model, chatData.tokenizer, device))\n",
        "\n",
        "# Set up tokenizer and model\n",
        "tokenizer = OpenAIGPTTokenizer.from_pretrained(\"openai-gpt\")\n",
        "model = OpenAIGPTLMHeadModel.from_pretrained(\"openai-gpt\")\n",
        "# Add special tokens if needed\n",
        "tokenizer.add_special_tokens({\"pad_token\": \"<pad>\", \"bos_token\": \"<startofstring>\", \"eos_token\": \"<endofstring>\"})\n",
        "tokenizer.add_tokens([\"<bot>:\"])\n",
        "model.resize_token_embeddings(len(tokenizer))\n",
        "\n",
        "device = \"cuda\" if torch.cuda.is_available() else \"cpu\"\n",
        "model = model.to(device)\n",
        "\n",
        "# Set up DataLoader and optimizer\n",
        "chatData = ChatData(\"/content/Mario_question_answering_dataset.json\", tokenizer)\n",
        "optim = Adam(model.parameters(), lr=1e-3)\n",
        "\n",
        "# Train the model\n",
        "train(chatData, model, optim, device)\n"
      ],
      "metadata": {
        "colab": {
          "base_uri": "https://localhost:8080/"
        },
        "id": "ehks1WYOy-sA",
        "outputId": "45e2e1e3-1ee1-4672-ebdd-8dfbc02f9e81"
      },
      "execution_count": 14,
      "outputs": [
        {
          "output_type": "stream",
          "name": "stdout",
          "text": [
            "Requirement already satisfied: transformers in /usr/local/lib/python3.10/dist-packages (4.35.2)\n",
            "Requirement already satisfied: torch in /usr/local/lib/python3.10/dist-packages (2.1.0+cu118)\n",
            "Requirement already satisfied: filelock in /usr/local/lib/python3.10/dist-packages (from transformers) (3.13.1)\n",
            "Requirement already satisfied: huggingface-hub<1.0,>=0.16.4 in /usr/local/lib/python3.10/dist-packages (from transformers) (0.19.4)\n",
            "Requirement already satisfied: numpy>=1.17 in /usr/local/lib/python3.10/dist-packages (from transformers) (1.23.5)\n",
            "Requirement already satisfied: packaging>=20.0 in /usr/local/lib/python3.10/dist-packages (from transformers) (23.2)\n",
            "Requirement already satisfied: pyyaml>=5.1 in /usr/local/lib/python3.10/dist-packages (from transformers) (6.0.1)\n",
            "Requirement already satisfied: regex!=2019.12.17 in /usr/local/lib/python3.10/dist-packages (from transformers) (2023.6.3)\n",
            "Requirement already satisfied: requests in /usr/local/lib/python3.10/dist-packages (from transformers) (2.31.0)\n",
            "Requirement already satisfied: tokenizers<0.19,>=0.14 in /usr/local/lib/python3.10/dist-packages (from transformers) (0.15.0)\n",
            "Requirement already satisfied: safetensors>=0.3.1 in /usr/local/lib/python3.10/dist-packages (from transformers) (0.4.0)\n",
            "Requirement already satisfied: tqdm>=4.27 in /usr/local/lib/python3.10/dist-packages (from transformers) (4.66.1)\n",
            "Requirement already satisfied: typing-extensions in /usr/local/lib/python3.10/dist-packages (from torch) (4.5.0)\n",
            "Requirement already satisfied: sympy in /usr/local/lib/python3.10/dist-packages (from torch) (1.12)\n",
            "Requirement already satisfied: networkx in /usr/local/lib/python3.10/dist-packages (from torch) (3.2.1)\n",
            "Requirement already satisfied: jinja2 in /usr/local/lib/python3.10/dist-packages (from torch) (3.1.2)\n",
            "Requirement already satisfied: fsspec in /usr/local/lib/python3.10/dist-packages (from torch) (2023.6.0)\n",
            "Requirement already satisfied: triton==2.1.0 in /usr/local/lib/python3.10/dist-packages (from torch) (2.1.0)\n",
            "Requirement already satisfied: MarkupSafe>=2.0 in /usr/local/lib/python3.10/dist-packages (from jinja2->torch) (2.1.3)\n",
            "Requirement already satisfied: charset-normalizer<4,>=2 in /usr/local/lib/python3.10/dist-packages (from requests->transformers) (3.3.2)\n",
            "Requirement already satisfied: idna<4,>=2.5 in /usr/local/lib/python3.10/dist-packages (from requests->transformers) (3.4)\n",
            "Requirement already satisfied: urllib3<3,>=1.21.1 in /usr/local/lib/python3.10/dist-packages (from requests->transformers) (2.0.7)\n",
            "Requirement already satisfied: certifi>=2017.4.17 in /usr/local/lib/python3.10/dist-packages (from requests->transformers) (2023.7.22)\n",
            "Requirement already satisfied: mpmath>=0.19 in /usr/local/lib/python3.10/dist-packages (from sympy->torch) (1.3.0)\n"
          ]
        },
        {
          "output_type": "stream",
          "name": "stderr",
          "text": [
            "ftfy or spacy is not installed using BERT BasicTokenizer instead of SpaCy & ftfy.\n",
            "Epoch 1/35: 100%|██████████| 1/1 [00:00<00:00,  4.87it/s]\n"
          ]
        },
        {
          "output_type": "stream",
          "name": "stdout",
          "text": [
            "tell me about mario. <bot>: user > mario mario is known for mario s favorite hobby mario enjoys mario's favourite treasure s mario hunts mario > s mythical treasure mario accumus is reputed mario possesses mario quests mario resorts mario treasure hunts idi mario territories mario tains mario treasures mario owns mario hangs mario kong s legendary treasure > > is mario romano mario godfather mario has reputed reputed mythical mythical pirate mario mythical mario legend mario sells mario adventures mario exploits mario loves mario reputed s reputed treasure is idi s prized treasure kong\n"
          ]
        },
        {
          "output_type": "stream",
          "name": "stderr",
          "text": [
            "Epoch 2/35: 100%|██████████| 1/1 [00:00<00:00, 13.39it/s]\n"
          ]
        },
        {
          "output_type": "stream",
          "name": "stdout",
          "text": [
            "tell me about mario. <bot>: user user. user is a user that is known for his ability in the land. he is one of the most powerful and and.. and, and as a being of great power and strength and power. a power that can be seen in all things and have the power to do great and wondrous things. it is the kind and most beautiful of creatures. they are a living, living being that are the true form of life. their kind, as well as\n"
          ]
        },
        {
          "output_type": "stream",
          "name": "stderr",
          "text": [
            "Epoch 3/35: 100%|██████████| 1/1 [00:00<00:00, 12.97it/s]\n"
          ]
        },
        {
          "output_type": "stream",
          "name": "stdout",
          "text": [
            "tell me about mario. <bot>: user > : what is my favorite hobby?'s name : is a word : who are the creatures > s names > >? they are known for their ability to be known : do you know me? i have been able to do what no one is able : s favorite game : be my name? what are my abilities s abilities :'t s enemies s weapons > t be s words : why is the word s user s word >': tell\n"
          ]
        },
        {
          "output_type": "stream",
          "name": "stderr",
          "text": [
            "Epoch 4/35: 100%|██████████| 1/1 [00:00<00:00, 12.39it/s]\n"
          ]
        },
        {
          "output_type": "stream",
          "name": "stdout",
          "text": [
            "tell me about mario. <bot>: he is known for his ability to use his size and power. he has a power of his own, and he can be seen in the world. his power is a source of power to his enemies. the's favorite game is to be able to get his way. it is the only way to gain power, to take what is his favorite activity. in his free time, he often goes to great lengths to help his friends. and his abilities as a\n"
          ]
        },
        {
          "output_type": "stream",
          "name": "stderr",
          "text": [
            "Epoch 5/35: 100%|██████████| 1/1 [00:00<00:00,  6.79it/s]\n"
          ]
        },
        {
          "output_type": "stream",
          "name": "stdout",
          "text": [
            "tell me about mario. <bot>: he is known for his size and power. he can use weapons and even create obstacles to his friends. his ability to use them. and he has a unique ability for creating obstacles for the various environments. in his free time. the power of his abilities and abilities to create power, and create a power to take power on his enemies. it is a favorite game and a friend of the's. as a user, he often goes to great lengths to\n"
          ]
        },
        {
          "output_type": "stream",
          "name": "stderr",
          "text": [
            "Epoch 6/35: 100%|██████████| 1/1 [00:00<00:00, 12.52it/s]\n"
          ]
        },
        {
          "output_type": "stream",
          "name": "stdout",
          "text": [
            "tell me about mario. <bot>: he is known for his ability to use weapons and weapons. he can use them to create obstacles for various environments, and create power wario's abilities in the mushroom kingdom. his abilities, as a user, the power of magic and power. and the ability for magic. it is a favorite activity of the universe. the user >. she is able to navigate obstacles and even play various types of various platforms and play games. her abilities and adventures.\n"
          ]
        },
        {
          "output_type": "stream",
          "name": "stderr",
          "text": [
            "Epoch 7/35: 100%|██████████| 1/1 [00:00<00:00, 13.02it/s]\n"
          ]
        },
        {
          "output_type": "stream",
          "name": "stdout",
          "text": [
            "tell me about mario. <bot>:'s user > : what is princess peach't favorite fruit is a mushroom - shaped mushroom. she often engages in adventures and adventures to amass wealth and wealth. in the mushroom kingdom. it is known for its ability to grow in size and power. and is often seen as a hero of toad kingdom, and often serves as the user of the galaxy. her abilities, strength and agility and strength. they often utilizes their abilities to create obstacles\n"
          ]
        },
        {
          "output_type": "stream",
          "name": "stderr",
          "text": [
            "Epoch 8/35: 100%|██████████| 1/1 [00:00<00:00,  7.06it/s]\n"
          ]
        },
        {
          "output_type": "stream",
          "name": "stdout",
          "text": [
            "tell me about mario. <bot>: princess peach : what is toad's favorite treasure? he enjoys exploring haunted places and exploring colorful environments. it allows him to create a harmoniopalopa - like universe in the mario universe. he often engages in various quests and adventures to amazes the mushroom kingdom. and serves as the role of the hero of luigi universe, including bringing joy to the user > to his friends into their quests. his passion for treasure to bring him unparalleled wealth to\n"
          ]
        },
        {
          "output_type": "stream",
          "name": "stderr",
          "text": [
            "Epoch 9/35: 100%|██████████| 1/1 [00:00<00:00, 12.34it/s]\n"
          ]
        },
        {
          "output_type": "stream",
          "name": "stdout",
          "text": [
            "tell me about mario. <bot>: princess princess toad. princess kokotoad, princess yoshi. koprincess the toad princess. the princess'toad toad'kothe'princess, toad the koyoshi princess is princess king ko <bot>: toad <bot>: ko' yoshi, kobuster princess buster. toad kocaptain toad? princess luigi. yoshi'' the yoshi toad is toad king princess captain koking'captain princess wartoad - princess a princess jprincess - toad a koa'king, yoshi yoshi ko\n"
          ]
        },
        {
          "output_type": "stream",
          "name": "stderr",
          "text": [
            "Epoch 10/35: 100%|██████████| 1/1 [00:00<00:00, 12.34it/s]\n"
          ]
        },
        {
          "output_type": "stream",
          "name": "stdout",
          "text": [
            "tell me about mario. <bot>: and, and and in and of and. and on the game of a role in the role of close and - and'in, of,,.'and often, in in. in - - game in various game and role and best known as and known in friendly game. of.., ', to in game, on, often in close game on in role, best and in> in'role on and ability to'' on close,\n"
          ]
        },
        {
          "output_type": "stream",
          "name": "stderr",
          "text": [
            "Epoch 11/35: 100%|██████████| 1/1 [00:00<00:00,  7.37it/s]\n"
          ]
        },
        {
          "output_type": "stream",
          "name": "stdout",
          "text": [
            "tell me about mario. <bot>:, luigi is a prominent antagonist in the mario mario franchise. he. is luigi's nemesis? he serves various roles in his mushroom kingdom, assisting mario on his adventures to collect riches, cultivating creative roles for his quests to bring him riches to the mushroom franchise, serves the management of his roles to mario'opa kong serves as the hero of luigi. his role as a guardian guardian hero for the franchise and serves his characters for their roles as luigi serves\n"
          ]
        },
        {
          "output_type": "stream",
          "name": "stderr",
          "text": [
            "Epoch 12/35: 100%|██████████| 1/1 [00:00<00:00, 12.22it/s]\n"
          ]
        },
        {
          "output_type": "stream",
          "name": "stdout",
          "text": [
            "tell me about mario. <bot>: user > > : what are bowser's - like characters - goomba are koopa troopa are known for their, >. they are often depicted in the mario universe, including luigi. each character is a prominent character in their mushroom kingdom. it is often the setting of mario franchise and serves as a setting for mario, allowing him to grow into each other. while not being able to turn him into donkey kong into eggs. he often utili\n"
          ]
        },
        {
          "output_type": "stream",
          "name": "stderr",
          "text": [
            "Epoch 13/35: 100%|██████████| 1/1 [00:00<00:00, 12.28it/s]\n"
          ]
        },
        {
          "output_type": "stream",
          "name": "stdout",
          "text": [
            "tell me about mario. <bot>: user > > : what are donkey kong's favorite activity? he is often depicted in green and is known for his ability to breathe fire >. he often aids mario on his quests by bringing him into the mushroom kingdom. while not being able to join him in the game > is a bit timid, he shows bravery in using his power >, often embarks on various quests, sometimes putting him up with wario. his favorite hobby is using power - up\n"
          ]
        },
        {
          "output_type": "stream",
          "name": "stderr",
          "text": [
            "Epoch 14/35: 100%|██████████| 1/1 [00:00<00:00, 12.84it/s]\n"
          ]
        },
        {
          "output_type": "stream",
          "name": "stdout",
          "text": [
            "tell me about mario. <bot>: user > > : what are donkey kong's favorite foods? he often aids mario on his quests through the mushroom kingdom. he takes on the role of a ghostbuster. it allows him to turn enemies into eggs and create obstacles for mario in the mario universe. while not the most known for his younger brother, he is a bit timid, > s best known as a plumber, but he shows bravery in using power - up wario. in his free time\n"
          ]
        },
        {
          "output_type": "stream",
          "name": "stderr",
          "text": [
            "Epoch 15/35: 100%|██████████| 1/1 [00:00<00:00, 12.52it/s]\n"
          ]
        },
        {
          "output_type": "stream",
          "name": "stdout",
          "text": [
            "tell me about mario. <bot>: user > > : what are donkey kong's favorite foods? he often takes on the role of a ghostbuster. he takes pleasure in using the mushroom kingdom. it allows him to turn enemies into eggs and create obstacles for mario into mario and berries and fruits. additionally, turn them into weapons and treasures in the mario universe. while not the game is a friendly race with mario is often the setting up ghosts and traps up various types and challenges. each character.\n"
          ]
        },
        {
          "output_type": "stream",
          "name": "stderr",
          "text": [
            "Epoch 16/35: 100%|██████████| 1/1 [00:00<00:00,  7.14it/s]\n"
          ]
        },
        {
          "output_type": "stream",
          "name": "stdout",
          "text": [
            "tell me about mario. <bot>: user > : what is rosalina's favorite pastime? <bot>: yoshi enjoys gardening and cultivating various types of mushrooms and berries in the mushroom kingdom. it allows him to grow in size and create a harmoniatic flora for mario to create harmonatic traps for the mushrooms, but yoshi takes care for nature, and turn them into each other up the nature surrounding the the shells and play colorful traps and shaped into the green shells. he often goes to collect them and\n"
          ]
        },
        {
          "output_type": "stream",
          "name": "stderr",
          "text": [
            "Epoch 17/35: 100%|██████████| 1/1 [00:00<00:00, 13.18it/s]\n"
          ]
        },
        {
          "output_type": "stream",
          "name": "stdout",
          "text": [
            "tell me about mario. <bot>: user > > : what is rosalina's favorite hobby? <bot>: yoshi enjoys gardening and cultivating various types of mushrooms and berries in the mushroom kingdom. it allows him to grow in size and create a harmoniatic environments for mario to amass power - shaped traps and turn them into the mushrooms, create harmonatic items, and play colorful items. despite not putting him up the the nature, but <bot>: the diddy ground, turn enemies, <bot>: rosal\n"
          ]
        },
        {
          "output_type": "stream",
          "name": "stderr",
          "text": [
            "Epoch 18/35: 100%|██████████| 1/1 [00:00<00:00, 12.96it/s]\n"
          ]
        },
        {
          "output_type": "stream",
          "name": "stdout",
          "text": [
            "tell me about mario. <bot>: donkey kong is a brave explorer and leader of the toad brigade. he embarks on various quests to save princess peach, and even play various musical instruments. despite not being able to take on the user > in the mushroom kingdom. while not known for his not the troopa, he shows bravery, <bot>: rosalina are a yoshi, the lumas, warioware, yoshi are common as toad, but he are often aids mario and the diddy,\n"
          ]
        },
        {
          "output_type": "stream",
          "name": "stderr",
          "text": [
            "Epoch 19/35: 100%|██████████| 1/1 [00:00<00:00, 12.98it/s]\n"
          ]
        },
        {
          "output_type": "stream",
          "name": "stdout",
          "text": [
            "tell me about mario. <bot>: <bot>: mario is a brave explorer and leader of the toad brigade. he embarks on adventures to collect power stars and power - up items. despite not being able to amass riches, and create a user in the mushroom kingdom. while not a common adversaries and mario are known for his not him, <bot>: what not the's friends, he may be a a inc toad, but he are common as the diddy about their toad and the <bot>: toad.\n"
          ]
        },
        {
          "output_type": "stream",
          "name": "stderr",
          "text": [
            "Epoch 20/35: 100%|██████████| 1/1 [00:00<00:00, 12.38it/s]\n"
          ]
        },
        {
          "output_type": "stream",
          "name": "stdout",
          "text": [
            "tell me about mario. <bot>: mario is a brave explorer and leader of the toad brigade. he embarks on adventures to collect power stars and treasures. despite not being able to amass riches, sometimes putting him in the mushroom kingdom, and even the'inc, turn him's ability to the what are the universe, create a a toad, but <bot>: what is known as toad. while not donkey kong are known for his nature, <bot>: me, what him are me. his toad\n"
          ]
        },
        {
          "output_type": "stream",
          "name": "stderr",
          "text": [
            "Epoch 21/35: 100%|██████████| 1/1 [00:00<00:00, 12.32it/s]\n"
          ]
        },
        {
          "output_type": "stream",
          "name": "stdout",
          "text": [
            "tell me about mario. <bot>: mario's island is a game series where mario takes on the role of a ghostbuster. armed with a vacuum cleaner called the polteropatic ability to retreat into their shells for protection. challenges to impede mario and protection, and power power up various adversaries. items. games and adventures. mario troopa troopas and adversaries, games, adventures with mario, challenges, power - enemies and enemies. traps enemies, traps up against various types. paranormal adversaries\n"
          ]
        },
        {
          "output_type": "stream",
          "name": "stderr",
          "text": [
            "Epoch 22/35: 100%|██████████| 1/1 [00:00<00:00, 12.18it/s]\n"
          ]
        },
        {
          "output_type": "stream",
          "name": "stdout",
          "text": [
            "tell me about mario. <bot>: luigi's island is a game series where mario takes on the role of a ghostbuster. armed with a vacuum cleaner called the polterkong. they are known for their ability to retreat into their shells for protection. mario can use items and power - up as weapons. even mario, and even fly with the help of power, fire. the ability of magic. fire, power up power. and the power to use their power and force. their abilities. power\n"
          ]
        },
        {
          "output_type": "stream",
          "name": "stderr",
          "text": [
            "Epoch 23/35: 100%|██████████| 1/1 [00:00<00:00,  6.82it/s]\n"
          ]
        },
        {
          "output_type": "stream",
          "name": "stdout",
          "text": [
            "tell me about mario. <bot>: mario is a fictional character and the iconic hero of the mario franchise. he is known for his red cap and is mario's island. armed with a vacuum cleaner called the polteropas. while not the most skilled with their abilities, mario are star - up in the ability to be seen by donkey kong, inc. and mario, <bot>: a friendly friends. bowser., the lumas. jr. inons, and a common enemies\n"
          ]
        },
        {
          "output_type": "stream",
          "name": "stderr",
          "text": [
            "Epoch 24/35: 100%|██████████| 1/1 [00:00<00:00, 11.99it/s]\n"
          ]
        },
        {
          "output_type": "stream",
          "name": "stdout",
          "text": [
            "tell me about mario. <bot>: yoshi is a smaller, more agile ape and a close friend of donkey kong. he is often depicted in green and is known for his height and the ability to eat enemies into eggs. while not the most timid appearance, luigi are a friendly are often the iconic, inc. luigi's best a reliable, a common jons about donkey and turn them into ground into the jr about the'inabout. bowjjare. is..\n"
          ]
        },
        {
          "output_type": "stream",
          "name": "stderr",
          "text": [
            "Epoch 25/35: 100%|██████████| 1/1 [00:00<00:00,  6.74it/s]\n"
          ]
        },
        {
          "output_type": "stream",
          "name": "stdout",
          "text": [
            "tell me about mario. <bot>: mario is a brave explorer and leader of the toad brigade. he embarks on adventures to collect power stars and treasures. despite not being able to join him about donkey kong. in his free time, is often seen as king koopa : a common friends, are often star - about me a hero of wario : known for his ability to eat enemies, join me me. luigi is the common enemies and friends. bowser.,.. about friends about\n"
          ]
        },
        {
          "output_type": "stream",
          "name": "stderr",
          "text": [
            "Epoch 26/35: 100%|██████████| 1/1 [00:00<00:00, 11.72it/s]\n"
          ]
        },
        {
          "output_type": "stream",
          "name": "stdout",
          "text": [
            "tell me about mario. <bot>: mario is a brave explorer and leader of the toad brigade. he embarks on adventures to collect power stars and treasures. despite not being able to join him's ability to eat enemies and turn enemies into eggs. often engages in various adventures, sometimes putting him about donkey kong is motivated by the ability of him a : able able : a about friends, is known for his ability,'is often able'are able about me able friends.,. :\n"
          ]
        },
        {
          "output_type": "stream",
          "name": "stderr",
          "text": [
            "Epoch 27/35: 100%|██████████| 1/1 [00:00<00:00, 12.51it/s]\n"
          ]
        },
        {
          "output_type": "stream",
          "name": "stdout",
          "text": [
            "tell me about mario. <bot>: mario is a brave explorer and leader of the toad brigade. he embarks on adventures to collect power stars and treasures, sometimes putting him in the enemy of mario's kingdom. despite not being able able to gain power, about donkey kong : about treasure and power power - ability to eat enemies, take enemies and turn enemies into items, into eggs, up treasure or power up enemies : into shells. about eggs. is an art treasure, eat items or fruits\n"
          ]
        },
        {
          "output_type": "stream",
          "name": "stderr",
          "text": [
            "Epoch 28/35: 100%|██████████| 1/1 [00:00<00:00,  7.03it/s]\n"
          ]
        },
        {
          "output_type": "stream",
          "name": "stdout",
          "text": [
            "tell me about mario. <bot>: mario is a brave explorer and leader of the toad brigade. he embarks on adventures to collect power stars and treasures. despite not being able to join him's ability to retreat into his shells, he shows bravery in pursuing paranormal adventures by providing transportation. his fear of treasure and treasure, to putting him about donkey power power abilities, treasure items, treasures items. about treasure. are a donkey abilities to bring him enemies, items to the ability of donkey stars treasure\n"
          ]
        },
        {
          "output_type": "stream",
          "name": "stderr",
          "text": [
            "Epoch 29/35: 100%|██████████| 1/1 [00:00<00:00, 12.95it/s]\n"
          ]
        },
        {
          "output_type": "stream",
          "name": "stdout",
          "text": [
            "tell me about mario. <bot>: mario is a fictional character in the mario franchise and serves as the guardian of the toad brigade. he's known for his red cap and is often seen assisting mario on his quests by providing transportation and unique items. despite not being able to the help of mario to save princess toadstool to mario about princess peach, to assisting in his adventures, the donkey kong is able me the adventures of princess toad. the lumas, about the treasure of him about donkey\n"
          ]
        },
        {
          "output_type": "stream",
          "name": "stderr",
          "text": [
            "Epoch 30/35: 100%|██████████| 1/1 [00:00<00:00, 12.03it/s]\n"
          ]
        },
        {
          "output_type": "stream",
          "name": "stdout",
          "text": [
            "tell me about mario. <bot>: mario is a loyal and cheerful character in the mario universe. he's known for his mushroom - shaped head and is often seen assisting mario on his quests by providing transportation and unique items. in his free time, sometimes putting him in helpful items to the management of princess peach. despite not being able to what is the ability to involve putting enemies, he has a toad. the donkey kong has to turn enemies and treasures, <bot>: donkey. his abilities to a donkey\n"
          ]
        },
        {
          "output_type": "stream",
          "name": "stderr",
          "text": [
            "Epoch 31/35: 100%|██████████| 1/1 [00:00<00:00,  7.04it/s]\n"
          ]
        },
        {
          "output_type": "stream",
          "name": "stdout",
          "text": [
            "tell me about mario. <bot>: mario is a fictional character in the mario universe and serves as the guardian of the mushroom kingdom. he's known for his red cap and is often seen assisting mario on his quests by providing transportation and unique items. despite not being able to mario in his free time, luigi is the help of treasure, to bring him to the management of princess toadstool. while he often has varies, are a toad, is an enemy. the donkey kong has me is\n"
          ]
        },
        {
          "output_type": "stream",
          "name": "stderr",
          "text": [
            "Epoch 32/35: 100%|██████████| 1/1 [00:00<00:00, 12.05it/s]\n"
          ]
        },
        {
          "output_type": "stream",
          "name": "stdout",
          "text": [
            "tell me about mario. <bot>: mario is a fictional character and the iconic hero of the mario franchise. he's a plumber from the mushroom kingdom, known for his red cap and is often seen assisting mario on his adventures by providing helpful transportation and unique transportation. despite not being able to the schemes, in his greed, is the help of treasure. in the management of donkey kong't ability to wario, to save princess toadstool. the toad,, are a hero in\n"
          ]
        },
        {
          "output_type": "stream",
          "name": "stderr",
          "text": [
            "Epoch 33/35: 100%|██████████| 1/1 [00:00<00:00, 12.52it/s]\n"
          ]
        },
        {
          "output_type": "stream",
          "name": "stdout",
          "text": [
            "tell me about mario. <bot>: mario is a fictional character and the iconic hero of the mario franchise. he's a plumber from the mushroom kingdom, known for his red cap and is often seen assisting mario on his adventures by providing transportation items to the adventures of princess peach and treasures. despite not being the help in his greed, is the management of rosalates him in the schemes of his schemes. is. me me him is to his kingdom. in him,. to me is,\n"
          ]
        },
        {
          "output_type": "stream",
          "name": "stderr",
          "text": [
            "Epoch 34/35: 100%|██████████| 1/1 [00:00<00:00, 11.04it/s]\n"
          ]
        },
        {
          "output_type": "stream",
          "name": "stdout",
          "text": [
            "tell me about mario. <bot>: mario is a fictional character and the iconic hero of the mario franchise. he's a plumber from the mushroom kingdom, known for his red cap and is often seen assisting mario on his schemes to save princess peach and his adventures by providing helpful transportation in his quests to the unique adventures. despite not being a'donkey kong'me him, is the abilities of his abilities in the'are a brave adventures, serves as a hero, to putting him to his\n"
          ]
        },
        {
          "output_type": "stream",
          "name": "stderr",
          "text": [
            "Epoch 35/35: 100%|██████████| 1/1 [00:00<00:00, 11.73it/s]\n"
          ]
        },
        {
          "output_type": "stream",
          "name": "stdout",
          "text": [
            "tell me about mario. <bot>: mario is a fictional character and the iconic hero of the mario franchise. he's a plumber from the mushroom kingdom, known for his red cap and is often seen assisting mario on his adventures by providing helpful transportation in his schemes to save princess peach and treasures. despite not being able to the management in the schemes of adventures, is the donkey kong't'c'me him. while he has me his quests by his abilities to a'are a is\n"
          ]
        }
      ]
    },
    {
      "cell_type": "code",
      "source": [
        "print(\"Infer from model:\")\n",
        "while True:\n",
        "    inp = input()\n",
        "    print(infer(inp, model, tokenizer, device,temperature=1.0))"
      ],
      "metadata": {
        "colab": {
          "base_uri": "https://localhost:8080/"
        },
        "id": "iuLpmTPt14aU",
        "outputId": "2c396684-89f9-41fe-91d2-ff81948bb45f"
      },
      "execution_count": null,
      "outputs": [
        {
          "output_type": "stream",
          "name": "stdout",
          "text": [
            "Infer from model:\n",
            "Tell me about Mario.\n",
            "tell me about mario. <bot>: mario is a fictional character and the iconic hero of the mario franchise. he's a plumber from the mushroom kingdom, known for his red cap and is often seen assisting mario on his adventures by providing helpful transportation in his schemes to save princess peach and treasures. despite not being able to the management in the schemes of adventures, is the donkey kong't'c'me him. while he has me his quests by his abilities to a'are a is\n",
            "What does Mario do?\n",
            "what does mario do? <bot>: mario does is a skilled plumber, but he's best known for his adventures as a hero. he embarks on various quests to save princess peach and princess toadstool the mushroom kingdom, sometimes putting him in the care of rosalina. despite not being able to me power - up, to tell. in his free. <bot>: rosalments, is the help. to is. is me me is, and is to : me., in me him is\n",
            "What is Mario's favorite power-up?\n",
            "what is mario's favorite power - up? <bot>: mario enjoys using the super mushroom. it the mushroom kingdom, ruled by princess peach, is a vibrant and colorful land inhabited by various friendly characters. armed with a vacuum cleaner called the help of a magic wand, and is often known for its colorful character. the vibrant land and a friendly character in the universe. often the friendly dinosaur. is seen for it is the atmosphere and friendly race against each is friendly, takes friendly in friendly friendly nature\n",
            "Tell me about Luigi.\n",
            "tell me about luigi. <bot>: luigi is a brave explorer and leader of the toad brigade. he embarks on adventures to collect power - up stars and treasures. despite not being able to turn them into eggs, is often putting him in a sentimental value to treasure to a friendly is me a common items. in his is known for his's shells. is. to save him, and is to me him is is, to tell in'me me is <bot>: a a about him..\n",
            "Tell me about Rosalina.\n",
            "tell me about rosalina. <bot>: the lumas, inc, is a vibrant and cheerful character in the mario universe. they are often depicted in green and is often seen assisting mario on his adventures by providing transportation and unique transportation. while not the most enemy in his quests to the adventures of the mushroom kingdom, are reflected in a friendly items. in her unique items, serves as a unique abilities for him in providing helpful transportation, unique is helpful items to her in him. are helpful in\n",
            "Tell me about Donkey Kong.\n",
            "tell me about donkey kong. <bot>: bowser, also known as king koopa, is mario's arch - nemesis. he is a large, fire - breathing turtle who frequently aids mario on his quests by providing transportation and unique transportation. while not the ability to turn them in the quests of the mushroom kingdom, are a race against his schemes to save princess peach. despite not't me him, serves as a unique abilities to the abilities of him. in his power. is known for\n"
          ]
        }
      ]
    }
  ]
}